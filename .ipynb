{
 "cells": [
  {
   "cell_type": "code",
   "execution_count": 9,
   "metadata": {},
   "outputs": [
    {
     "name": "stdout",
     "output_type": "stream",
     "text": [
      "valid\n"
     ]
    }
   ],
   "source": [
    "ops = f\"([])\"\n",
    "\n",
    "balance_parenthesis = 0\n",
    "balance_curly = 0\n",
    "balance_square = 0\n",
    "\n",
    "for i in ops:\n",
    "\n",
    "    if i == \"(\":\n",
    "        balance_parenthesis = balance_parenthesis + 1\n",
    "\n",
    "    elif i == \")\":\n",
    "        balance_parenthesis = balance_parenthesis - 1\n",
    "\n",
    "    elif i == \"[\":\n",
    "        balance_square = balance_square + 1\n",
    "\n",
    "    elif i == \"]\":\n",
    "        balance_square = balance_square - 1\n",
    "\n",
    "    elif i == \"{\":\n",
    "        balance_curly = balance_curly + 1\n",
    "\n",
    "    elif i == \"}\":\n",
    "        balance_curly = balance_curly - 1\n",
    "\n",
    "balance = balance_curly + balance_square + balance_parenthesis\n",
    "\n",
    "if balance == 0:\n",
    "    print('valid')\n",
    "\n",
    "else:\n",
    "    print('invalid')"
   ]
  }
 ],
 "metadata": {
  "kernelspec": {
   "display_name": "Python 3",
   "language": "python",
   "name": "python3"
  },
  "language_info": {
   "codemirror_mode": {
    "name": "ipython",
    "version": 3
   },
   "file_extension": ".py",
   "mimetype": "text/x-python",
   "name": "python",
   "nbconvert_exporter": "python",
   "pygments_lexer": "ipython3",
   "version": "3.12.2"
  }
 },
 "nbformat": 4,
 "nbformat_minor": 2
}
